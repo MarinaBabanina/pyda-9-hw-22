{
 "cells": [
  {
   "cell_type": "markdown",
   "metadata": {},
   "source": [
    "# Домашняя работа №7."
   ]
  },
  {
   "cell_type": "markdown",
   "metadata": {},
   "source": [
    "* Написать модель Random Forest на датасет больных сердечными болезнями (можно почистить от выбросов)."
   ]
  },
  {
   "cell_type": "code",
   "execution_count": 1,
   "metadata": {},
   "outputs": [],
   "source": [
    "import numpy as np\n",
    "import matplotlib.pyplot as plt\n",
    "import scipy.stats as st\n",
    "import statsmodels as sm\n",
    "import matplotlib\n",
    "import pandas as pd\n",
    "import io\n",
    "import requests\n",
    "import ssl\n",
    "import seaborn as sns\n",
    "\n",
    "from sklearn.metrics import classification_report\n",
    "from sklearn import preprocessing\n",
    "from scipy.stats import t\n",
    "from scipy.stats import norm\n",
    "from scipy import stats\n",
    "from pylab import *\n",
    "\n",
    "# Turn off code warnings (this is not recommended for routine use)\n",
    "import warnings\n",
    "warnings.filterwarnings(\"ignore\")\n",
    "%matplotlib inline"
   ]
  },
  {
   "cell_type": "code",
   "execution_count": 35,
   "metadata": {},
   "outputs": [
    {
     "data": {
      "text/html": [
       "<div>\n",
       "<style scoped>\n",
       "    .dataframe tbody tr th:only-of-type {\n",
       "        vertical-align: middle;\n",
       "    }\n",
       "\n",
       "    .dataframe tbody tr th {\n",
       "        vertical-align: top;\n",
       "    }\n",
       "\n",
       "    .dataframe thead th {\n",
       "        text-align: right;\n",
       "    }\n",
       "</style>\n",
       "<table border=\"1\" class=\"dataframe\">\n",
       "  <thead>\n",
       "    <tr style=\"text-align: right;\">\n",
       "      <th></th>\n",
       "      <th>id</th>\n",
       "      <th>age</th>\n",
       "      <th>gender</th>\n",
       "      <th>height</th>\n",
       "      <th>weight</th>\n",
       "      <th>ap_hi</th>\n",
       "      <th>ap_lo</th>\n",
       "      <th>cholesterol</th>\n",
       "      <th>gluc</th>\n",
       "      <th>smoke</th>\n",
       "      <th>alco</th>\n",
       "      <th>active</th>\n",
       "      <th>cardio</th>\n",
       "    </tr>\n",
       "  </thead>\n",
       "  <tbody>\n",
       "    <tr>\n",
       "      <th>69995</th>\n",
       "      <td>99993</td>\n",
       "      <td>19240</td>\n",
       "      <td>2</td>\n",
       "      <td>168</td>\n",
       "      <td>76.0</td>\n",
       "      <td>120</td>\n",
       "      <td>80</td>\n",
       "      <td>1</td>\n",
       "      <td>1</td>\n",
       "      <td>1</td>\n",
       "      <td>0</td>\n",
       "      <td>1</td>\n",
       "      <td>0</td>\n",
       "    </tr>\n",
       "    <tr>\n",
       "      <th>69996</th>\n",
       "      <td>99995</td>\n",
       "      <td>22601</td>\n",
       "      <td>1</td>\n",
       "      <td>158</td>\n",
       "      <td>126.0</td>\n",
       "      <td>140</td>\n",
       "      <td>90</td>\n",
       "      <td>2</td>\n",
       "      <td>2</td>\n",
       "      <td>0</td>\n",
       "      <td>0</td>\n",
       "      <td>1</td>\n",
       "      <td>1</td>\n",
       "    </tr>\n",
       "    <tr>\n",
       "      <th>69997</th>\n",
       "      <td>99996</td>\n",
       "      <td>19066</td>\n",
       "      <td>2</td>\n",
       "      <td>183</td>\n",
       "      <td>105.0</td>\n",
       "      <td>180</td>\n",
       "      <td>90</td>\n",
       "      <td>3</td>\n",
       "      <td>1</td>\n",
       "      <td>0</td>\n",
       "      <td>1</td>\n",
       "      <td>0</td>\n",
       "      <td>1</td>\n",
       "    </tr>\n",
       "    <tr>\n",
       "      <th>69998</th>\n",
       "      <td>99998</td>\n",
       "      <td>22431</td>\n",
       "      <td>1</td>\n",
       "      <td>163</td>\n",
       "      <td>72.0</td>\n",
       "      <td>135</td>\n",
       "      <td>80</td>\n",
       "      <td>1</td>\n",
       "      <td>2</td>\n",
       "      <td>0</td>\n",
       "      <td>0</td>\n",
       "      <td>0</td>\n",
       "      <td>1</td>\n",
       "    </tr>\n",
       "    <tr>\n",
       "      <th>69999</th>\n",
       "      <td>99999</td>\n",
       "      <td>20540</td>\n",
       "      <td>1</td>\n",
       "      <td>170</td>\n",
       "      <td>72.0</td>\n",
       "      <td>120</td>\n",
       "      <td>80</td>\n",
       "      <td>2</td>\n",
       "      <td>1</td>\n",
       "      <td>0</td>\n",
       "      <td>0</td>\n",
       "      <td>1</td>\n",
       "      <td>0</td>\n",
       "    </tr>\n",
       "  </tbody>\n",
       "</table>\n",
       "</div>"
      ],
      "text/plain": [
       "          id    age  gender  height  weight  ap_hi  ap_lo  cholesterol  gluc  \\\n",
       "69995  99993  19240       2     168    76.0    120     80            1     1   \n",
       "69996  99995  22601       1     158   126.0    140     90            2     2   \n",
       "69997  99996  19066       2     183   105.0    180     90            3     1   \n",
       "69998  99998  22431       1     163    72.0    135     80            1     2   \n",
       "69999  99999  20540       1     170    72.0    120     80            2     1   \n",
       "\n",
       "       smoke  alco  active  cardio  \n",
       "69995      1     0       1       0  \n",
       "69996      0     0       1       1  \n",
       "69997      0     1       0       1  \n",
       "69998      0     0       0       1  \n",
       "69999      0     0       1       0  "
      ]
     },
     "execution_count": 35,
     "metadata": {},
     "output_type": "execute_result"
    }
   ],
   "source": [
    "url = \"http://yustiks.ru/dataset/cardio_train.csv\"\n",
    "data = pd.read_csv(url,sep=\";\")\n",
    "data.tail()"
   ]
  },
  {
   "cell_type": "markdown",
   "metadata": {},
   "source": [
    "Данный датасет разобран в начале лекции 5. "
   ]
  },
  {
   "cell_type": "markdown",
   "metadata": {},
   "source": [
    "Модель Random Forest при обучении дает такой метод как feature importance, используя его, можно оценить, какой параметр **максимально** влияет на болезнь."
   ]
  },
  {
   "cell_type": "markdown",
   "metadata": {},
   "source": [
    "* Сделать вывод о том, какой атрибут оказывает значительное влияение на наличие или отсутствие болезни."
   ]
  },
  {
   "cell_type": "markdown",
   "metadata": {},
   "source": [
    "Основная задача: определить, что влияет на сердечную болезнь больше всего. Например, выдвигая гипотезу о том, что тот кто курит, болеет чаще, мы сравниваем курящих пациентов с некурящими, и определяя насколько статистически значимы выборки, делаем вывод, что одна выборка статистически отличима от другой (или неотличима).\n",
    "    Выдвигаем гипотезу на самый важный атрибут, полученный из feature_importance (Random_Forest). И оцениваем гипотезу. И делаем вывод."
   ]
  },
  {
   "cell_type": "code",
   "execution_count": 36,
   "metadata": {},
   "outputs": [
    {
     "name": "stdout",
     "output_type": "stream",
     "text": [
      "<class 'pandas.core.frame.DataFrame'>\n",
      "RangeIndex: 70000 entries, 0 to 69999\n",
      "Data columns (total 13 columns):\n",
      " #   Column       Non-Null Count  Dtype  \n",
      "---  ------       --------------  -----  \n",
      " 0   id           70000 non-null  int64  \n",
      " 1   age          70000 non-null  int64  \n",
      " 2   gender       70000 non-null  int64  \n",
      " 3   height       70000 non-null  int64  \n",
      " 4   weight       70000 non-null  float64\n",
      " 5   ap_hi        70000 non-null  int64  \n",
      " 6   ap_lo        70000 non-null  int64  \n",
      " 7   cholesterol  70000 non-null  int64  \n",
      " 8   gluc         70000 non-null  int64  \n",
      " 9   smoke        70000 non-null  int64  \n",
      " 10  alco         70000 non-null  int64  \n",
      " 11  active       70000 non-null  int64  \n",
      " 12  cardio       70000 non-null  int64  \n",
      "dtypes: float64(1), int64(12)\n",
      "memory usage: 6.9 MB\n"
     ]
    }
   ],
   "source": [
    "data.info()"
   ]
  },
  {
   "cell_type": "code",
   "execution_count": 37,
   "metadata": {
    "scrolled": true
   },
   "outputs": [
    {
     "data": {
      "text/html": [
       "<div>\n",
       "<style scoped>\n",
       "    .dataframe tbody tr th:only-of-type {\n",
       "        vertical-align: middle;\n",
       "    }\n",
       "\n",
       "    .dataframe tbody tr th {\n",
       "        vertical-align: top;\n",
       "    }\n",
       "\n",
       "    .dataframe thead th {\n",
       "        text-align: right;\n",
       "    }\n",
       "</style>\n",
       "<table border=\"1\" class=\"dataframe\">\n",
       "  <thead>\n",
       "    <tr style=\"text-align: right;\">\n",
       "      <th></th>\n",
       "      <th>id</th>\n",
       "      <th>age</th>\n",
       "      <th>gender</th>\n",
       "      <th>height</th>\n",
       "      <th>weight</th>\n",
       "      <th>ap_hi</th>\n",
       "      <th>ap_lo</th>\n",
       "      <th>cholesterol</th>\n",
       "      <th>gluc</th>\n",
       "      <th>smoke</th>\n",
       "      <th>alco</th>\n",
       "      <th>active</th>\n",
       "      <th>cardio</th>\n",
       "    </tr>\n",
       "  </thead>\n",
       "  <tbody>\n",
       "    <tr>\n",
       "      <th>0</th>\n",
       "      <td>-1.00000</td>\n",
       "      <td>0.176152</td>\n",
       "      <td>1.0</td>\n",
       "      <td>0.158974</td>\n",
       "      <td>-0.452632</td>\n",
       "      <td>-0.967842</td>\n",
       "      <td>-0.972900</td>\n",
       "      <td>-1.0</td>\n",
       "      <td>-1.0</td>\n",
       "      <td>-1.0</td>\n",
       "      <td>-1.0</td>\n",
       "      <td>1.0</td>\n",
       "      <td>-1.0</td>\n",
       "    </tr>\n",
       "    <tr>\n",
       "      <th>1</th>\n",
       "      <td>-0.99998</td>\n",
       "      <td>0.460317</td>\n",
       "      <td>-1.0</td>\n",
       "      <td>0.035897</td>\n",
       "      <td>-0.210526</td>\n",
       "      <td>-0.964131</td>\n",
       "      <td>-0.971093</td>\n",
       "      <td>1.0</td>\n",
       "      <td>-1.0</td>\n",
       "      <td>-1.0</td>\n",
       "      <td>-1.0</td>\n",
       "      <td>1.0</td>\n",
       "      <td>1.0</td>\n",
       "    </tr>\n",
       "    <tr>\n",
       "      <th>2</th>\n",
       "      <td>-0.99996</td>\n",
       "      <td>0.248006</td>\n",
       "      <td>-1.0</td>\n",
       "      <td>0.128205</td>\n",
       "      <td>-0.431579</td>\n",
       "      <td>-0.965368</td>\n",
       "      <td>-0.974706</td>\n",
       "      <td>1.0</td>\n",
       "      <td>-1.0</td>\n",
       "      <td>-1.0</td>\n",
       "      <td>-1.0</td>\n",
       "      <td>-1.0</td>\n",
       "      <td>1.0</td>\n",
       "    </tr>\n",
       "    <tr>\n",
       "      <th>3</th>\n",
       "      <td>-0.99994</td>\n",
       "      <td>0.056911</td>\n",
       "      <td>1.0</td>\n",
       "      <td>0.169231</td>\n",
       "      <td>-0.242105</td>\n",
       "      <td>-0.962894</td>\n",
       "      <td>-0.969286</td>\n",
       "      <td>-1.0</td>\n",
       "      <td>-1.0</td>\n",
       "      <td>-1.0</td>\n",
       "      <td>-1.0</td>\n",
       "      <td>1.0</td>\n",
       "      <td>1.0</td>\n",
       "    </tr>\n",
       "    <tr>\n",
       "      <th>4</th>\n",
       "      <td>-0.99992</td>\n",
       "      <td>0.033837</td>\n",
       "      <td>-1.0</td>\n",
       "      <td>0.035897</td>\n",
       "      <td>-0.515789</td>\n",
       "      <td>-0.969079</td>\n",
       "      <td>-0.976513</td>\n",
       "      <td>-1.0</td>\n",
       "      <td>-1.0</td>\n",
       "      <td>-1.0</td>\n",
       "      <td>-1.0</td>\n",
       "      <td>-1.0</td>\n",
       "      <td>-1.0</td>\n",
       "    </tr>\n",
       "  </tbody>\n",
       "</table>\n",
       "</div>"
      ],
      "text/plain": [
       "        id       age  gender    height    weight     ap_hi     ap_lo  \\\n",
       "0 -1.00000  0.176152     1.0  0.158974 -0.452632 -0.967842 -0.972900   \n",
       "1 -0.99998  0.460317    -1.0  0.035897 -0.210526 -0.964131 -0.971093   \n",
       "2 -0.99996  0.248006    -1.0  0.128205 -0.431579 -0.965368 -0.974706   \n",
       "3 -0.99994  0.056911     1.0  0.169231 -0.242105 -0.962894 -0.969286   \n",
       "4 -0.99992  0.033837    -1.0  0.035897 -0.515789 -0.969079 -0.976513   \n",
       "\n",
       "   cholesterol  gluc  smoke  alco  active  cardio  \n",
       "0         -1.0  -1.0   -1.0  -1.0     1.0    -1.0  \n",
       "1          1.0  -1.0   -1.0  -1.0     1.0     1.0  \n",
       "2          1.0  -1.0   -1.0  -1.0    -1.0     1.0  \n",
       "3         -1.0  -1.0   -1.0  -1.0     1.0     1.0  \n",
       "4         -1.0  -1.0   -1.0  -1.0    -1.0    -1.0  "
      ]
     },
     "execution_count": 37,
     "metadata": {},
     "output_type": "execute_result"
    }
   ],
   "source": [
    "headers = list(data.columns.values)\n",
    "min_max_scaler = preprocessing.MinMaxScaler(feature_range=(-1,1))\n",
    "\n",
    "np_scaled = min_max_scaler.fit_transform(data)\n",
    "df_norm = pd.DataFrame(np_scaled)\n",
    "df_norm.columns = headers\n",
    "df_norm.head()"
   ]
  },
  {
   "cell_type": "code",
   "execution_count": 38,
   "metadata": {},
   "outputs": [
    {
     "data": {
      "image/png": "[encoded data removed]",
      "text/plain": [
       "<Figure size 1080x432 with 1 Axes>"
      ]
     },
     "metadata": {
      "needs_background": "light"
     },
     "output_type": "display_data"
    }
   ],
   "source": [
    " boxplot = df_norm.boxplot(figsize=(15,6), rot=90)"
   ]
  },
  {
   "cell_type": "code",
   "execution_count": 39,
   "metadata": {},
   "outputs": [],
   "source": [
    "low = .05\n",
    "high = .95\n",
    "quant_df = df_norm.quantile([low, high])"
   ]
  },
  {
   "cell_type": "code",
   "execution_count": 40,
   "metadata": {},
   "outputs": [],
   "source": [
    "df_norm.age = df_norm.age.loc[(df_norm.age >= quant_df.age[low])\n",
    "                              & (df_norm.age <= quant_df.age[high])]\n",
    "\n",
    "df_norm.height = df_norm.height.loc[(df_norm.height >= quant_df.height[low])\n",
    "                              & (df_norm.height <= quant_df.height[high])]\n",
    "\n",
    "df_norm.weight = df_norm.weight.loc[(df_norm.weight >= quant_df.weight[low])\n",
    "                              & (df_norm.weight <= quant_df.weight[high])]\n",
    "\n",
    "df_norm.ap_hi = df_norm.ap_hi.loc[(df_norm.ap_hi >= quant_df.ap_hi[low])\n",
    "                              & (df_norm.ap_hi <= quant_df.ap_hi[high])]\n",
    "\n",
    "df_norm.ap_lo = df_norm.ap_lo.loc[(df_norm.ap_lo >= quant_df.ap_lo[low])\n",
    "                              & (df_norm.ap_lo <= quant_df.ap_lo[high])]\n",
    "\n",
    "df_norm.gluc = df_norm.gluc.loc[(df_norm.gluc >= quant_df.gluc[low])\n",
    "                              & (df_norm.gluc <= quant_df.gluc[high])]\n",
    "\n",
    "df_norm.smoke = df_norm.smoke.loc[(df_norm.smoke >= quant_df.smoke[low])\n",
    "                              & (df_norm.smoke <= quant_df.smoke[high])]\n",
    "\n",
    "df_norm.alco = df_norm.alco.loc[(df_norm.alco >= quant_df.alco[low])\n",
    "                              & (df_norm.alco <= quant_df.alco[high])]\n",
    "\n",
    "df_norm.active = df_norm.active.loc[(df_norm.active >= quant_df.active[low])\n",
    "                              & (df_norm.active <= quant_df.active[high])]"
   ]
  },
  {
   "cell_type": "code",
   "execution_count": 41,
   "metadata": {},
   "outputs": [
    {
     "data": {
      "image/png": "[encoded data removed]",
      "text/plain": [
       "<Figure size 1080x432 with 1 Axes>"
      ]
     },
     "metadata": {
      "needs_background": "light"
     },
     "output_type": "display_data"
    }
   ],
   "source": [
    " boxplot = df_norm.boxplot(figsize=(15,6), rot=90)"
   ]
  },
  {
   "cell_type": "code",
   "execution_count": 42,
   "metadata": {},
   "outputs": [
    {
     "name": "stdout",
     "output_type": "stream",
     "text": [
      "<class 'pandas.core.frame.DataFrame'>\n",
      "RangeIndex: 70000 entries, 0 to 69999\n",
      "Data columns (total 13 columns):\n",
      " #   Column       Non-Null Count  Dtype  \n",
      "---  ------       --------------  -----  \n",
      " 0   id           70000 non-null  float64\n",
      " 1   age          63014 non-null  float64\n",
      " 2   gender       70000 non-null  float64\n",
      " 3   height       64062 non-null  float64\n",
      " 4   weight       63414 non-null  float64\n",
      " 5   ap_hi        66721 non-null  float64\n",
      " 6   ap_lo        65106 non-null  float64\n",
      " 7   cholesterol  70000 non-null  float64\n",
      " 8   gluc         70000 non-null  float64\n",
      " 9   smoke        70000 non-null  float64\n",
      " 10  alco         70000 non-null  float64\n",
      " 11  active       70000 non-null  float64\n",
      " 12  cardio       70000 non-null  float64\n",
      "dtypes: float64(13)\n",
      "memory usage: 6.9 MB\n"
     ]
    }
   ],
   "source": [
    "df_norm.info()"
   ]
  },
  {
   "cell_type": "code",
   "execution_count": 43,
   "metadata": {},
   "outputs": [],
   "source": [
    "mean_age = df_norm['age'].mean()\n",
    "df_norm['age'] = df_norm['age'].fillna(mean_age)\n",
    "\n",
    "mean_height = df_norm['height'].mean()\n",
    "df_norm['height'] = df_norm['height'].fillna(mean_height)\n",
    "\n",
    "mean_weight = df_norm['weight'].mean()\n",
    "df_norm['weight'] = df_norm['weight'].fillna(mean_weight)\n",
    "\n",
    "mean_ap_hi = df_norm['ap_hi'].mean()\n",
    "df_norm['ap_hi'] = df_norm['ap_hi'].fillna(mean_ap_hi)\n",
    "\n",
    "mean_ap_lo = df_norm['ap_lo'].mean()\n",
    "df_norm['ap_lo'] = df_norm['ap_lo'].fillna(mean_ap_lo)"
   ]
  },
  {
   "cell_type": "code",
   "execution_count": 44,
   "metadata": {},
   "outputs": [
    {
     "name": "stdout",
     "output_type": "stream",
     "text": [
      "<class 'pandas.core.frame.DataFrame'>\n",
      "RangeIndex: 70000 entries, 0 to 69999\n",
      "Data columns (total 13 columns):\n",
      " #   Column       Non-Null Count  Dtype  \n",
      "---  ------       --------------  -----  \n",
      " 0   id           70000 non-null  float64\n",
      " 1   age          70000 non-null  float64\n",
      " 2   gender       70000 non-null  float64\n",
      " 3   height       70000 non-null  float64\n",
      " 4   weight       70000 non-null  float64\n",
      " 5   ap_hi        70000 non-null  float64\n",
      " 6   ap_lo        70000 non-null  float64\n",
      " 7   cholesterol  70000 non-null  float64\n",
      " 8   gluc         70000 non-null  float64\n",
      " 9   smoke        70000 non-null  float64\n",
      " 10  alco         70000 non-null  float64\n",
      " 11  active       70000 non-null  float64\n",
      " 12  cardio       70000 non-null  float64\n",
      "dtypes: float64(13)\n",
      "memory usage: 6.9 MB\n"
     ]
    }
   ],
   "source": [
    "df_norm.info()"
   ]
  },
  {
   "cell_type": "code",
   "execution_count": 51,
   "metadata": {},
   "outputs": [],
   "source": [
    "# x - все столбцы, кроме id и целевого cardio, y = cardio (0 - нет болезни, 1 - есть)\n",
    "x, y = df_norm.drop(['id', 'cardio'], axis=1), df_norm.cardio"
   ]
  },
  {
   "cell_type": "code",
   "execution_count": 52,
   "metadata": {},
   "outputs": [
    {
     "data": {
      "text/plain": [
       "RandomForestClassifier()"
      ]
     },
     "execution_count": 52,
     "metadata": {},
     "output_type": "execute_result"
    }
   ],
   "source": [
    "from sklearn.model_selection import train_test_split\n",
    "# разделение данные на тренировочные и тестовые\n",
    "x_train, x_test, y_train, y_test = train_test_split(x, y, test_size=0.3) \n",
    "\n",
    "from sklearn.ensemble import RandomForestClassifier\n",
    "\n",
    "# создаем модель деревья решений\n",
    "# выбираем 100 деревьев в качестве параметра\n",
    "model=RandomForestClassifier(n_estimators=100)\n",
    "\n",
    "# обучаем модель\n",
    "model.fit(x_train, y_train)"
   ]
  },
  {
   "cell_type": "code",
   "execution_count": 53,
   "metadata": {},
   "outputs": [
    {
     "name": "stdout",
     "output_type": "stream",
     "text": [
      "              precision    recall  f1-score   support\n",
      "\n",
      "        -1.0       0.70      0.72      0.71     10649\n",
      "         1.0       0.70      0.69      0.69     10351\n",
      "\n",
      "    accuracy                           0.70     21000\n",
      "   macro avg       0.70      0.70      0.70     21000\n",
      "weighted avg       0.70      0.70      0.70     21000\n",
      "\n",
      "Модель \"рандомных деревьев\" дала точность предсказания порядка 0.7021904761904761.\n"
     ]
    }
   ],
   "source": [
    "# Посчитаем качество модели - classification report:\n",
    "from sklearn.metrics import classification_report\n",
    "\n",
    "model_pred = model.predict(x_test)\n",
    "\n",
    "print(classification_report(y_test, model_pred))\n",
    "\n",
    "print(f'Модель \"рандомных деревьев\" дала точность предсказания порядка {model.score(x_test, y_test)}.')"
   ]
  },
  {
   "cell_type": "code",
   "execution_count": 48,
   "metadata": {},
   "outputs": [],
   "source": [
    "shuffled = df_norm\n",
    "shuffled = shuffled.sample(frac=1)\n",
    "shuffled = shuffled.reset_index(drop=True)"
   ]
  },
  {
   "cell_type": "code",
   "execution_count": 49,
   "metadata": {},
   "outputs": [
    {
     "name": "stdout",
     "output_type": "stream",
     "text": [
      "0.7151714285714286\n"
     ]
    }
   ],
   "source": [
    "from sklearn import metrics\n",
    "\n",
    "part = len(shuffled)//10\n",
    "\n",
    "# создаем модель деревья решений\n",
    "# выбираем 100 деревьев в качестве параметра\n",
    "model=RandomForestClassifier(n_estimators=100)\n",
    "\n",
    "mean_score = 0\n",
    "for i in range(10):\n",
    "    test = shuffled[i*part:(i+1)*part]\n",
    "    train = shuffled.drop(shuffled.index[i*part:(i+1)*part])\n",
    "    # обучаем модель\n",
    "    train_x = train.drop(['cardio'], axis=1)\n",
    "    train_y = train.cardio\n",
    "    test_x = test.drop(['cardio'], axis=1)\n",
    "    test_y = test.cardio\n",
    "    model.fit(train_x, train_y)\n",
    "\n",
    "    model_pred = model.predict(test_x)\n",
    "    mean_score += metrics.accuracy_score(test_y, model_pred)\n",
    "    \n",
    "print(mean_score/10)"
   ]
  },
  {
   "cell_type": "code",
   "execution_count": 54,
   "metadata": {},
   "outputs": [
    {
     "data": {
      "image/png": "[encoded data removed]",
      "text/plain": [
       "<Figure size 432x432 with 1 Axes>"
      ]
     },
     "metadata": {
      "needs_background": "light"
     },
     "output_type": "display_data"
    }
   ],
   "source": [
    "# Наиболее важные атрибуты для модели Random Forest:\n",
    "headers = list(x_train.columns.values)\n",
    "\n",
    "feature_imp = pd.Series(model.feature_importances_,index=headers).sort_values(ascending=False)\n",
    "\n",
    "f, ax = plt.subplots(figsize=(6, 6))\n",
    "sns.barplot(x=feature_imp, y=feature_imp.index)\n",
    "\n",
    "plt.xlabel('Важность атрибутов')\n",
    "plt.ylabel('Атрибуты')\n",
    "plt.title(\"Наиболее важные атрибуты\")\n",
    "plt.show()"
   ]
  },
  {
   "cell_type": "markdown",
   "metadata": {},
   "source": [
    "## Гипотеза H0: обследуемые моложе 55 и старше 55 болеют одинаково."
   ]
  },
  {
   "cell_type": "code",
   "execution_count": 57,
   "metadata": {},
   "outputs": [],
   "source": [
    "import researchpy as rp"
   ]
  },
  {
   "cell_type": "code",
   "execution_count": 58,
   "metadata": {},
   "outputs": [
    {
     "data": {
      "text/plain": [
       "count    196.629213\n",
       "mean      54.687825\n",
       "std        6.930482\n",
       "min       30.331461\n",
       "25%       49.617978\n",
       "50%       55.345506\n",
       "75%       59.907303\n",
       "max       66.609551\n",
       "Name: age, dtype: float64"
      ]
     },
     "execution_count": 58,
     "metadata": {},
     "output_type": "execute_result"
    }
   ],
   "source": [
    "data.describe().age/356 "
   ]
  },
  {
   "cell_type": "code",
   "execution_count": 59,
   "metadata": {},
   "outputs": [],
   "source": [
    "descriptives, results = rp.ttest(data[data.age <= data.age.quantile()].cardio, data[data.age > data.age.quantile()].cardio)"
   ]
  },
  {
   "cell_type": "code",
   "execution_count": 60,
   "metadata": {},
   "outputs": [
    {
     "name": "stdout",
     "output_type": "stream",
     "text": [
      "                Independent t-test     results\n",
      "0  Difference (cardio - cardio) =      -0.1927\n",
      "1            Degrees of freedom =   69998.0000\n",
      "2                             t =     -51.9607\n",
      "3         Two side test p value =       0.0000\n",
      "4        Difference < 0 p value =       0.0000\n",
      "5        Difference > 0 p value =       1.0000\n",
      "6                     Cohen's d =      -0.3928\n",
      "7                     Hedge's g =      -0.3928\n",
      "8                 Glass's delta =      -0.3928\n",
      "9                             r =       0.1927\n"
     ]
    }
   ],
   "source": [
    "print(results)"
   ]
  },
  {
   "cell_type": "markdown",
   "metadata": {},
   "source": [
    "P-value равно нулю, т.е. существует существеное различие между двумя выборками по возрастам."
   ]
  }
 ],
 "metadata": {
  "kernelspec": {
   "display_name": "Python 3",
   "language": "python",
   "name": "python3"
  },
  "language_info": {
   "codemirror_mode": {
    "name": "ipython",
    "version": 3
   },
   "file_extension": ".py",
   "mimetype": "text/x-python",
   "name": "python",
   "nbconvert_exporter": "python",
   "pygments_lexer": "ipython3",
   "version": "3.7.6"
  }
 },
 "nbformat": 4,
 "nbformat_minor": 4
}
